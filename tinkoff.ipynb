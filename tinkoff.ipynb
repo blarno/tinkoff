{
 "cells": [
  {
   "cell_type": "markdown",
   "metadata": {},
   "source": [
    "# Задание 1"
   ]
  },
  {
   "cell_type": "code",
   "execution_count": 78,
   "metadata": {},
   "outputs": [
    {
     "name": "stdout",
     "output_type": "stream",
     "text": [
      "1/16\n"
     ]
    }
   ],
   "source": [
    "from fractions import Fraction\n",
    "alph = []\n",
    "count = 0\n",
    "all_count = 2**9 #2^9 (9 символов,у каждого 2 значения)\n",
    "for i in range(all_count): \n",
    "    x = bin(i).replace('0b', '') #поочередно перебираем все двоичные числа от нуля до 9 единиц\n",
    "    x = '0' * (9-len(x)) + x #добавляем нули в начало двоичным числа,длина которых меньше нужной\n",
    "    if(x==x[::-1]): #сравниваем строку с перевернутой для поиска палиндромов\n",
    "        count+=1\n",
    "print(Fraction(count,all_count))"
   ]
  },
  {
   "cell_type": "markdown",
   "metadata": {},
   "source": [
    "# Задание 2"
   ]
  },
  {
   "cell_type": "code",
   "execution_count": 32,
   "metadata": {},
   "outputs": [
    {
     "data": {
      "text/latex": [
       "$\\displaystyle 0.08523$"
      ],
      "text/plain": [
       "0.0852300000000000"
      ]
     },
     "execution_count": 32,
     "metadata": {},
     "output_type": "execute_result"
    }
   ],
   "source": [
    "from sympy import factorial\n",
    "def combinations(k,n):\n",
    "    return factorial(n)/(factorial(n-k)*factorial(k))\n",
    "\n",
    "p = (0.1 * (1-0.1)**3)*combinations(1,4)*0.2 + (0.1**2 * (1-0.1)**2)*combinations(2,4)*0.5 + (0.1**3 * (1-0.1))*combinations(3,4)*0.7 + (0.1)**4*combinations(4,4)*0.9\n",
    "p"
   ]
  },
  {
   "cell_type": "markdown",
   "metadata": {},
   "source": [
    "# Задание 3"
   ]
  },
  {
   "cell_type": "code",
   "execution_count": 117,
   "metadata": {},
   "outputs": [
    {
     "data": {
      "text/plain": [
       "'temp-plot.html'"
      ]
     },
     "execution_count": 117,
     "metadata": {},
     "output_type": "execute_result"
    }
   ],
   "source": [
    "# Решение оформлено в Jupyter Notebook с использованием языка Python\n",
    "# построим график\n",
    "import plotly\n",
    "import plotly.graph_objs as go\n",
    "import random \n",
    "import numpy as np\n",
    "x = np.arange(-10,2,0.01)\n",
    "y = np.arange(-10,2,0.01)\n",
    "x,y = np.meshgrid(x,y)\n",
    "def f(x,y):\n",
    " return np.exp((x+y)/2)*(x**2-4*y**2)**3\n",
    "\n",
    "fig1 = go.Surface(x=x, y=y, z=f(x,y))\n",
    "\n",
    "plotly.offline.plot({\"data\": [fig1] },auto_open=True)"
   ]
  },
  {
   "cell_type": "code",
   "execution_count": 103,
   "metadata": {},
   "outputs": [],
   "source": [
    "# попробуем решить обычным способом, однако для облегчения воспользуемся sympy\n",
    "from sympy import *\n",
    "from sympy import exp\n",
    "x,y = symbols('x,y',real=True)\n",
    "z = exp((x+y)/2)*(x**2-4*y**2)**3\n",
    "dfx = diff(z,x)\n",
    "dfy = diff(z,y)\n",
    "dfxx = diff(dfx,x).simplify()\n",
    "dfyy = diff(dfy,y).simplify()\n",
    "dfxy = diff(dfx,y).simplify()\n",
    "solution = solve((dfx,dfy),(x,y))\n",
    "#получаем 4 стационарные точки"
   ]
  },
  {
   "cell_type": "code",
   "execution_count": 111,
   "metadata": {},
   "outputs": [
    {
     "data": {
      "text/latex": [
       "$\\displaystyle 0$"
      ],
      "text/plain": [
       "0"
      ]
     },
     "execution_count": 111,
     "metadata": {},
     "output_type": "execute_result"
    }
   ],
   "source": [
    "l = dfxx*dfyy - dfxy**2\n",
    "l = l.simplify()\n",
    "l.subs([(x,solution[1][0]),(y,solution[1][1])])\n",
    "# 0"
   ]
  },
  {
   "cell_type": "code",
   "execution_count": 112,
   "metadata": {},
   "outputs": [
    {
     "data": {
      "text/latex": [
       "$\\displaystyle 0$"
      ],
      "text/plain": [
       "0"
      ]
     },
     "execution_count": 112,
     "metadata": {},
     "output_type": "execute_result"
    }
   ],
   "source": [
    "l.subs([(x,solution[2][0]),(y,solution[2][1])])\n",
    "# 0"
   ]
  },
  {
   "cell_type": "code",
   "execution_count": 113,
   "metadata": {},
   "outputs": [
    {
     "data": {
      "text/latex": [
       "$\\displaystyle 0$"
      ],
      "text/plain": [
       "0"
      ]
     },
     "execution_count": 113,
     "metadata": {},
     "output_type": "execute_result"
    }
   ],
   "source": [
    "l.subs([(x,solution[3][0]),(y,solution[3][1])])\n",
    "# 0"
   ]
  },
  {
   "cell_type": "code",
   "execution_count": 110,
   "metadata": {},
   "outputs": [
    {
     "data": {
      "text/latex": [
       "$\\displaystyle \\frac{195689447424}{e^{12}}$"
      ],
      "text/plain": [
       "195689447424*exp(-12)"
      ]
     },
     "execution_count": 110,
     "metadata": {},
     "output_type": "execute_result"
    }
   ],
   "source": [
    "l.subs([(x,solution[0][0]),(y,solution[0][1])])\n",
    "#больше нуля -> в этой точке есть экстремум\n",
    "# 195689447424/e^12"
   ]
  },
  {
   "cell_type": "code",
   "execution_count": 105,
   "metadata": {},
   "outputs": [
    {
     "data": {
      "text/latex": [
       "$\\displaystyle - \\frac{368640}{e^{6}}$"
      ],
      "text/plain": [
       "-368640*exp(-6)"
      ]
     },
     "execution_count": 105,
     "metadata": {},
     "output_type": "execute_result"
    }
   ],
   "source": [
    "dfxx.subs([(x,solution[0][0]),(y,solution[0][1])])\n",
    "#меньше нуля -> это максимум\n",
    "# −368640/e^6"
   ]
  },
  {
   "cell_type": "code",
   "execution_count": 107,
   "metadata": {},
   "outputs": [
    {
     "name": "stdout",
     "output_type": "stream",
     "text": [
      "(-16, 4)\n"
     ]
    },
    {
     "data": {
      "text/latex": [
       "$\\displaystyle \\frac{7077888}{e^{6}}$"
      ],
      "text/plain": [
       "7077888*exp(-6)"
      ]
     },
     "execution_count": 107,
     "metadata": {},
     "output_type": "execute_result"
    }
   ],
   "source": [
    "print(solution[0])\n",
    "z.subs([(x,solution[0][0]),(y,solution[0][1])])\n",
    "# (-16, 4)\n",
    "# f = 7077888/e^6"
   ]
  },
  {
   "cell_type": "markdown",
   "metadata": {},
   "source": [
    "# Задание 4"
   ]
  },
  {
   "cell_type": "code",
   "execution_count": 67,
   "metadata": {},
   "outputs": [],
   "source": [
    "import numpy as np\n",
    "import random\n",
    "from numba import njit\n",
    "number_arr = np.arange(0,1,0.0001)\n",
    "count_arr = np.zeros(len(number_arr))\n",
    "n = 1000000\n",
    "#Эта часть кода отвечает за симуляцию выбора всех трех игроков\n",
    "@njit\n",
    "def f(number_arr,j):\n",
    "    count = 0\n",
    "    for i in range(n):\n",
    "        first = random.uniform(1,1/2)\n",
    "        second = random.uniform(0,2/3)\n",
    "        if(((first>number_arr[j] and second<number_arr[j])) or (first<number_arr[j] and second>number_arr[j])): #названоое число должно быть между числами двух других игроков\n",
    "            count += 1  \n",
    "    count = count/n\n",
    "    return count\n",
    "for i in range(len(number_arr)):\n",
    "        count_arr[i] = f(number_arr,i)"
   ]
  },
  {
   "cell_type": "code",
   "execution_count": 77,
   "metadata": {},
   "outputs": [
    {
     "data": {
      "text/plain": [
       "<matplotlib.collections.PathCollection at 0x2203cdb8160>"
      ]
     },
     "execution_count": 77,
     "metadata": {},
     "output_type": "execute_result"
    },
    {
     "data": {
      "image/png": "[encoded data removed]",
      "text/plain": [
       "<Figure size 1080x1080 with 1 Axes>"
      ]
     },
     "metadata": {
      "needs_background": "light"
     },
     "output_type": "display_data"
    }
   ],
   "source": [
    "import matplotlib.pyplot as plt \n",
    "plt.figure(figsize=(15, 15))\n",
    "plt.scatter(y = count_arr,x = number_arr)"
   ]
  },
  {
   "cell_type": "code",
   "execution_count": 70,
   "metadata": {},
   "outputs": [],
   "source": [
    "# на графика мы можем увидеть, что наибольшая вероятность правильного выбора находится примерно между числами 1/2  и 2/3\n",
    "# повторим симуляцию, но уже для этого промежутка"
   ]
  },
  {
   "cell_type": "code",
   "execution_count": 58,
   "metadata": {},
   "outputs": [],
   "source": [
    "number_arr = np.arange(1/2,2/3,0.0001)\n",
    "count_arr = np.zeros(len(number_arr))\n",
    "n = 1000000\n",
    "#Эта часть кода отвечает за симуляцию выбора всех трех игроков\n",
    "@njit\n",
    "def f(number_arr,j):\n",
    "    count = 0\n",
    "    for i in range(n):\n",
    "        first = random.uniform(1,1/2)\n",
    "        second = random.uniform(0,2/3)\n",
    "        if(((first>number_arr[j] and second<number_arr[j])) or (first<number_arr[j] and second>number_arr[j])): #названоое число должно быть между числами двух других игроков\n",
    "            count += 1  \n",
    "    count = count/n\n",
    "    return count\n",
    "for i in range(len(number_arr)):\n",
    "        count_arr[i] = f(number_arr,i)"
   ]
  },
  {
   "cell_type": "code",
   "execution_count": 59,
   "metadata": {},
   "outputs": [
    {
     "data": {
      "text/plain": [
       "<matplotlib.collections.PathCollection at 0x2203fb3d358>"
      ]
     },
     "execution_count": 59,
     "metadata": {},
     "output_type": "execute_result"
    },
    {
     "data": {
      "image/png": "[encoded data removed]",
      "text/plain": [
       "<Figure size 432x288 with 1 Axes>"
      ]
     },
     "metadata": {
      "needs_background": "light"
     },
     "output_type": "display_data"
    }
   ],
   "source": [
    "import matplotlib.pyplot as plt \n",
    "plt.scatter(y = count_arr,x = number_arr)"
   ]
  },
  {
   "cell_type": "code",
   "execution_count": 71,
   "metadata": {},
   "outputs": [],
   "source": [
    "# видим нужную нам верхушку графика, попробуем апроксимировать ее функцией"
   ]
  },
  {
   "cell_type": "code",
   "execution_count": 60,
   "metadata": {},
   "outputs": [
    {
     "data": {
      "text/plain": [
       "[<matplotlib.lines.Line2D at 0x2203fb3d470>]"
      ]
     },
     "execution_count": 60,
     "metadata": {},
     "output_type": "execute_result"
    },
    {
     "data": {
      "image/png": "[encoded data removed]",
      "text/plain": [
       "<Figure size 432x288 with 1 Axes>"
      ]
     },
     "metadata": {
      "needs_background": "light"
     },
     "output_type": "display_data"
    }
   ],
   "source": [
    "fit = np.polyfit(number_arr, count_arr, 2) # подбираем коэфициенты для полинома, который апроксимирует наши полученные значения\n",
    "a,b,c = fit[0],fit[1],fit[2]\n",
    "fit_equation = a * number_arr*number_arr + b * number_arr + c\n",
    "plt.scatter(number_arr, count_arr, s=30, color='orange')\n",
    "plt.plot(number_arr, fit_equation)"
   ]
  },
  {
   "cell_type": "code",
   "execution_count": 61,
   "metadata": {},
   "outputs": [
    {
     "name": "stdout",
     "output_type": "stream",
     "text": [
      "FiniteSet(0.541636657529656)\n"
     ]
    }
   ],
   "source": [
    "import sympy  #ищем максимум функции на нашем промежутке(стационарную точку)\n",
    "from sympy.calculus.util import *\n",
    "x = sympy.symbols('x')\n",
    "f = a * x*x + b * x + c\n",
    "ivl = Interval(1/2,2/3)\n",
    "print(stationary_points(f,x,ivl))"
   ]
  },
  {
   "cell_type": "markdown",
   "metadata": {},
   "source": [
    "# Задание 5"
   ]
  },
  {
   "cell_type": "code",
   "execution_count": 28,
   "metadata": {},
   "outputs": [
    {
     "data": {
      "text/plain": [
       "0.8888950318520529"
      ]
     },
     "execution_count": 28,
     "metadata": {},
     "output_type": "execute_result"
    }
   ],
   "source": [
    "import numpy as np\n",
    "from numba import njit\n",
    "n = 1000000000\n",
    "a = np.random.randint(0,2,n) #массив всех дней 1-дождь,0-дождя нет (интервал[0,2),поэтому на конце двойка)\n",
    "@njit\n",
    "def f(a):\n",
    "    toggle = 1 # изначально зонт был дома\n",
    "    cnt = 0 # счетчик дней,когда он таки смог взять зонт\n",
    "    for i in a:\n",
    "        if (i == 1):  # если идет дождь\n",
    "            if(toggle == 1): # и если зонт дома\n",
    "                cnt += 1 # увеличиваем наш счетчик на 1\n",
    "            if(np.random.randint(1,101)<=20): # с вероятностью 0.2 зонт остается на работе\n",
    "                toggle = 0 \n",
    "            else:\n",
    "                toggle = 1 \n",
    "        else:         # если дождь не идет\n",
    "            if(toggle == 0): # и зонт не дома (он забыл его в один из предыдущих дней)\n",
    "                if(np.random.randint(1,101)<=20): # с вероятностью 0.2 зонт все еще остается на работе\n",
    "                    toggle = 0 \n",
    "                else:\n",
    "                    toggle = 1\n",
    "    return cnt/np.sum(a) # делим количество подходящих нам дней на общее кол-во дней ,когда шел дождь\n",
    "f(a)\n",
    "# 0.8888950318520529\n",
    "# 0.8(8) -> 8/9"
   ]
  }
 ],
 "metadata": {
  "kernelspec": {
   "display_name": "Python 3",
   "language": "python",
   "name": "python3"
  },
  "language_info": {
   "codemirror_mode": {
    "name": "ipython",
    "version": 3
   },
   "file_extension": ".py",
   "mimetype": "text/x-python",
   "name": "python",
   "nbconvert_exporter": "python",
   "pygments_lexer": "ipython3",
   "version": "3.7.3"
  }
 },
 "nbformat": 4,
 "nbformat_minor": 2
}
